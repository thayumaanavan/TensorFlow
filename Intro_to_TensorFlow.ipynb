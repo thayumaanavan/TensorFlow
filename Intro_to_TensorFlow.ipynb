{
  "nbformat": 4,
  "nbformat_minor": 0,
  "metadata": {
    "colab": {
      "name": "Intro to TensorFlow.ipynb",
      "version": "0.3.2",
      "provenance": [],
      "collapsed_sections": [],
      "toc_visible": true
    },
    "kernelspec": {
      "name": "python3",
      "display_name": "Python 3"
    }
  },
  "cells": [
    {
      "cell_type": "markdown",
      "metadata": {
        "id": "view-in-github",
        "colab_type": "text"
      },
      "source": [
        "[View in Colaboratory](https://colab.research.google.com/github/thayumaanavan/TensorFlow/blob/master/Intro_to_TensorFlow.ipynb)"
      ]
    },
    {
      "metadata": {
        "id": "AfUsbLCI9ypO",
        "colab_type": "code",
        "colab": {}
      },
      "cell_type": "code",
      "source": [
        "from __future__ import absolute_import,division,print_function\n",
        "\n",
        "import numpy as np\n",
        "import tensorflow as tf"
      ],
      "execution_count": 0,
      "outputs": []
    },
    {
      "metadata": {
        "id": "WUfSpFhYX2ut",
        "colab_type": "text"
      },
      "cell_type": "markdown",
      "source": [
        "### Run TensorBoard in Colab"
      ]
    },
    {
      "metadata": {
        "id": "qIbsPdHNTJJQ",
        "colab_type": "code",
        "colab": {}
      },
      "cell_type": "code",
      "source": [
        "LOG_DIR = '/tmp/log'\n",
        "get_ipython().system_raw(\n",
        "    'tensorboard --logdir {} --host 0.0.0.0 --port 6006 &'\n",
        "    .format(LOG_DIR)\n",
        ")"
      ],
      "execution_count": 0,
      "outputs": []
    },
    {
      "metadata": {
        "id": "PNuIoxB5Wk7d",
        "colab_type": "code",
        "colab": {}
      },
      "cell_type": "code",
      "source": [
        "! curl http://localhost:6006"
      ],
      "execution_count": 0,
      "outputs": []
    },
    {
      "metadata": {
        "id": "6CbtvBZ7WwfX",
        "colab_type": "code",
        "colab": {}
      },
      "cell_type": "code",
      "source": [
        "! wget https://bin.equinox.io/c/4VmDzA7iaHb/ngrok-stable-linux-amd64.zip > /dev/null 2>&1\n",
        "! unzip ngrok-stable-linux-amd64.zip > /dev/null 2>&1"
      ],
      "execution_count": 0,
      "outputs": []
    },
    {
      "metadata": {
        "id": "P5E0lj6AW3vc",
        "colab_type": "code",
        "colab": {}
      },
      "cell_type": "code",
      "source": [
        "get_ipython().system_raw('./ngrok http 6006 &')"
      ],
      "execution_count": 0,
      "outputs": []
    },
    {
      "metadata": {
        "id": "Jw_vVi1_W8hI",
        "colab_type": "code",
        "colab": {
          "base_uri": "https://localhost:8080/",
          "height": 34
        },
        "outputId": "e0b9029d-0944-414d-c786-24a41e07723a"
      },
      "cell_type": "code",
      "source": [
        "! curl -s http://localhost:4040/api/tunnels | python3 -c \\\n",
        "    \"import sys, json; print(json.load(sys.stdin)['tunnels'][0]['public_url'])\""
      ],
      "execution_count": 14,
      "outputs": [
        {
          "output_type": "stream",
          "text": [
            "https://b2d2aa09.ngrok.io\r\n"
          ],
          "name": "stdout"
        }
      ]
    },
    {
      "metadata": {
        "id": "99oTfg-mbHVw",
        "colab_type": "text"
      },
      "cell_type": "markdown",
      "source": [
        "# Tensorflow Basics"
      ]
    },
    {
      "metadata": {
        "id": "y6odD_8iaTAV",
        "colab_type": "text"
      },
      "cell_type": "markdown",
      "source": [
        "## Tensors"
      ]
    },
    {
      "metadata": {
        "id": "pChVl8kQFEZD",
        "colab_type": "code",
        "colab": {
          "base_uri": "https://localhost:8080/",
          "height": 68
        },
        "outputId": "58d07e04-c820-4502-9813-8b46793f88a6"
      },
      "cell_type": "code",
      "source": [
        "a = tf.constant(4.3)\n",
        "b = tf.constant(2.4, dtype = tf.float32)\n",
        "total = a + b\n",
        "print(a)\n",
        "print(b)\n",
        "print(total)"
      ],
      "execution_count": 5,
      "outputs": [
        {
          "output_type": "stream",
          "text": [
            "Tensor(\"Const:0\", shape=(), dtype=float32)\n",
            "Tensor(\"Const_1:0\", shape=(), dtype=float32)\n",
            "Tensor(\"add:0\", shape=(), dtype=float32)\n"
          ],
          "name": "stdout"
        }
      ]
    },
    {
      "metadata": {
        "id": "fL1luTiEaWfg",
        "colab_type": "text"
      },
      "cell_type": "markdown",
      "source": [
        "##  Graphs"
      ]
    },
    {
      "metadata": {
        "id": "evE1rC6zFFMz",
        "colab_type": "code",
        "colab": {}
      },
      "cell_type": "code",
      "source": [
        "writer = tf.summary.FileWriter('/tmp/log')\n",
        "writer.add_graph(tf.get_default_graph())"
      ],
      "execution_count": 0,
      "outputs": []
    },
    {
      "metadata": {
        "id": "EgvVp8W4bXLt",
        "colab_type": "text"
      },
      "cell_type": "markdown",
      "source": [
        "## Session"
      ]
    },
    {
      "metadata": {
        "id": "xXxnc-ECYG1x",
        "colab_type": "code",
        "colab": {
          "base_uri": "https://localhost:8080/",
          "height": 34
        },
        "outputId": "dfc3a9cc-40f6-4253-bbd1-2b8b78635f60"
      },
      "cell_type": "code",
      "source": [
        "sess = tf.Session()\n",
        "print(sess.run(total))"
      ],
      "execution_count": 17,
      "outputs": [
        {
          "output_type": "stream",
          "text": [
            "6.7000003\n"
          ],
          "name": "stdout"
        }
      ]
    },
    {
      "metadata": {
        "id": "C-D8rYXhXYwi",
        "colab_type": "code",
        "colab": {
          "base_uri": "https://localhost:8080/",
          "height": 34
        },
        "outputId": "9de0f525-2700-402f-b034-509f289e4fea"
      },
      "cell_type": "code",
      "source": [
        "print(sess.run({'ab':(a,b), 'total': total}))"
      ],
      "execution_count": 18,
      "outputs": [
        {
          "output_type": "stream",
          "text": [
            "{'ab': (4.3, 2.4), 'total': 6.7000003}\n"
          ],
          "name": "stdout"
        }
      ]
    },
    {
      "metadata": {
        "id": "Jlz2XyC3YwPv",
        "colab_type": "code",
        "colab": {
          "base_uri": "https://localhost:8080/",
          "height": 88
        },
        "outputId": "2f8f1a3d-418a-44fe-f754-ad236f6bc4ef"
      },
      "cell_type": "code",
      "source": [
        "vec = tf.random_uniform(shape=(3,))\n",
        "out1 = vec + 1\n",
        "out2 = vec + 2\n",
        "print(sess.run(vec))\n",
        "print(sess.run(vec))\n",
        "print(sess.run((out1, out2)))"
      ],
      "execution_count": 21,
      "outputs": [
        {
          "output_type": "stream",
          "text": [
            "[0.6673131  0.7757058  0.00575542]\n",
            "[0.88059056 0.7212678  0.5014881 ]\n",
            "(array([1.5904428, 1.869086 , 1.6414287], dtype=float32), array([2.5904427, 2.869086 , 2.6414287], dtype=float32))\n"
          ],
          "name": "stdout"
        }
      ]
    },
    {
      "metadata": {
        "id": "iP1OImenbg1a",
        "colab_type": "text"
      },
      "cell_type": "markdown",
      "source": [
        "## Feeding"
      ]
    },
    {
      "metadata": {
        "id": "tBSa_tF3ZhI7",
        "colab_type": "code",
        "colab": {
          "base_uri": "https://localhost:8080/",
          "height": 51
        },
        "outputId": "c6b8d4c1-c2b7-4d02-f9dd-d005553ade14"
      },
      "cell_type": "code",
      "source": [
        "x = tf.placeholder(tf.float32)\n",
        "y = tf.placeholder(tf.float32)\n",
        "z = x + y\n",
        "print(sess.run(z, feed_dict = {x: 4, y: 1.3}))\n",
        "print(sess.run(z, feed_dict = {x: [1, 2, 3], y:[2., 5, 7]}))"
      ],
      "execution_count": 25,
      "outputs": [
        {
          "output_type": "stream",
          "text": [
            "5.3\n",
            "[ 3.  7. 10.]\n"
          ],
          "name": "stdout"
        }
      ]
    },
    {
      "metadata": {
        "id": "wN5C_WSgblUX",
        "colab_type": "text"
      },
      "cell_type": "markdown",
      "source": [
        "## Datasets"
      ]
    },
    {
      "metadata": {
        "id": "oUkabRPjbnS3",
        "colab_type": "code",
        "colab": {}
      },
      "cell_type": "code",
      "source": [
        "my_data = [\n",
        "    [0, 1],\n",
        "    [2, 3],\n",
        "    [4, 5],\n",
        "    [6, 7]\n",
        "]\n",
        "\n",
        "slices = tf.data.Dataset.from_tensor_slices(my_data)\n",
        "next_item = slices.make_one_shot_iterator().get_next()"
      ],
      "execution_count": 0,
      "outputs": []
    },
    {
      "metadata": {
        "id": "e397VXQgcRod",
        "colab_type": "code",
        "colab": {
          "base_uri": "https://localhost:8080/",
          "height": 102
        },
        "outputId": "d8eb964c-ee66-4d88-a3e8-77c0886c5dec"
      },
      "cell_type": "code",
      "source": [
        "while True:\n",
        "  try:\n",
        "    print(sess.run(next_item))  \n",
        "  except tf.errors.OutOfRangeError:\n",
        "    print('End of data')\n",
        "    break"
      ],
      "execution_count": 37,
      "outputs": [
        {
          "output_type": "stream",
          "text": [
            "[0 1]\n",
            "[2 3]\n",
            "[4 5]\n",
            "[6 7]\n",
            "End of data\n"
          ],
          "name": "stdout"
        }
      ]
    },
    {
      "metadata": {
        "id": "Cvm06_PodjC-",
        "colab_type": "code",
        "colab": {
          "base_uri": "https://localhost:8080/",
          "height": 187
        },
        "outputId": "b43c472f-0c8e-4757-93b4-ce6874738dcf"
      },
      "cell_type": "code",
      "source": [
        "r = tf.random_normal([10, 3])\n",
        "dataset = tf.data.Dataset.from_tensor_slices(r)\n",
        "iterator = dataset.make_initializable_iterator()\n",
        "next_row = iterator.get_next()\n",
        "\n",
        "sess.run(iterator.initializer)\n",
        "while(True):\n",
        "  try:\n",
        "    print(sess.run(next_row))\n",
        "  except tf.errors.OutOfRangeError:\n",
        "    break"
      ],
      "execution_count": 39,
      "outputs": [
        {
          "output_type": "stream",
          "text": [
            "[ 0.27022338  0.39980522 -1.4244442 ]\n",
            "[-0.6821632  -0.8306161   0.42343733]\n",
            "[-0.9722504   1.1778765   0.20370676]\n",
            "[ 1.4144363   0.10453297 -0.3476158 ]\n",
            "[1.447857   1.0573546  0.85842353]\n",
            "[-0.7125022 -0.7656749  0.5010435]\n",
            "[ 0.8720069   0.04987228 -2.2587707 ]\n",
            "[ 0.33332777 -0.13372426 -0.69012225]\n",
            "[-3.6631515  -0.68921554 -0.7903427 ]\n",
            "[0.6301057  0.81646156 1.8055857 ]\n"
          ],
          "name": "stdout"
        }
      ]
    },
    {
      "metadata": {
        "id": "iHWh3o7reP4Z",
        "colab_type": "text"
      },
      "cell_type": "markdown",
      "source": [
        "## Layers\n",
        "\n"
      ]
    },
    {
      "metadata": {
        "id": "rNKRyTkbipkd",
        "colab_type": "text"
      },
      "cell_type": "markdown",
      "source": [
        "### Creating Layers"
      ]
    },
    {
      "metadata": {
        "id": "IHi-tuu1eRmA",
        "colab_type": "code",
        "colab": {}
      },
      "cell_type": "code",
      "source": [
        "x = tf.placeholder(tf.float32, shape=[None, 3])\n",
        "linear_model = tf.layers.Dense(units=1)\n",
        "y = linear_model(x)"
      ],
      "execution_count": 0,
      "outputs": []
    },
    {
      "metadata": {
        "id": "Ed5S0jwaitLj",
        "colab_type": "text"
      },
      "cell_type": "markdown",
      "source": [
        "### Initializing Layers"
      ]
    },
    {
      "metadata": {
        "id": "ZJZhaSttfIGc",
        "colab_type": "code",
        "colab": {}
      },
      "cell_type": "code",
      "source": [
        "init = tf.global_variables_initializer()\n",
        "sess.run(init)\n"
      ],
      "execution_count": 0,
      "outputs": []
    },
    {
      "metadata": {
        "id": "4sir62ROisHf",
        "colab_type": "text"
      },
      "cell_type": "markdown",
      "source": [
        "### Executing Layers"
      ]
    },
    {
      "metadata": {
        "id": "kzEKpD30i3LX",
        "colab_type": "code",
        "colab": {
          "base_uri": "https://localhost:8080/",
          "height": 51
        },
        "outputId": "af2da9fc-73be-429d-fa1d-c42d1e180d5e"
      },
      "cell_type": "code",
      "source": [
        "print(sess.run(y, {x: [[1, 2, 3],[4, 5, 6]]}))"
      ],
      "execution_count": 50,
      "outputs": [
        {
          "output_type": "stream",
          "text": [
            "[[-1.4604723]\n",
            " [-1.3932254]]\n"
          ],
          "name": "stdout"
        }
      ]
    },
    {
      "metadata": {
        "id": "6w46AR20i6ja",
        "colab_type": "text"
      },
      "cell_type": "markdown",
      "source": [
        "### Layer Function Shortcuts"
      ]
    },
    {
      "metadata": {
        "id": "MQOSwW5wi93L",
        "colab_type": "code",
        "colab": {
          "base_uri": "https://localhost:8080/",
          "height": 68
        },
        "outputId": "89283f12-0e2b-4ede-c3e6-a12d7f63551b"
      },
      "cell_type": "code",
      "source": [
        "x = tf.placeholder(tf.float32, shape=[None, 3])\n",
        "y = tf.layers.dense(x, units=1)\n",
        "\n",
        "init = tf.global_variables_initializer()\n",
        "sess.run(init)\n",
        "\n",
        "print(sess.run(y, {x:[[1, 2, 3], [4, 5, 6],[7, 8, 9]]}))"
      ],
      "execution_count": 51,
      "outputs": [
        {
          "output_type": "stream",
          "text": [
            "[[-1.7432835]\n",
            " [-4.4192176]\n",
            " [-7.095151 ]]\n"
          ],
          "name": "stdout"
        }
      ]
    },
    {
      "metadata": {
        "id": "zcS8R0wFjknw",
        "colab_type": "text"
      },
      "cell_type": "markdown",
      "source": [
        "## Feature Columns"
      ]
    },
    {
      "metadata": {
        "id": "LRFjatKhjoaY",
        "colab_type": "code",
        "colab": {}
      },
      "cell_type": "code",
      "source": [
        "features = {\n",
        "    'sales' : [[5], [10], [8], [9]],\n",
        "    'department' : ['sports', 'sports', 'gardening', 'sports']    \n",
        "}\n",
        "\n",
        "department_column = tf.feature_column.categorical_column_with_vocabulary_list(\n",
        "'department', ['sports', 'gardening'])\n",
        "department_column = tf.feature_column.indicator_column(department_column)\n",
        "\n",
        "columns = [    \n",
        "    tf.feature_column.numeric_column('sales'),    \n",
        "    department_column\n",
        "]\n",
        "\n",
        "inputs = tf.feature_column.input_layer(features, columns)"
      ],
      "execution_count": 0,
      "outputs": []
    },
    {
      "metadata": {
        "id": "FvNzTWU-ngP2",
        "colab_type": "code",
        "colab": {}
      },
      "cell_type": "code",
      "source": [
        "var_init = tf.global_variables_initializer()\n",
        "table_init = tf.tables_initializer()\n",
        "sess.run((var_init, table_init))"
      ],
      "execution_count": 0,
      "outputs": []
    },
    {
      "metadata": {
        "id": "rohUcUAenwdx",
        "colab_type": "code",
        "colab": {
          "base_uri": "https://localhost:8080/",
          "height": 85
        },
        "outputId": "e6658a8f-7ee5-48b4-ee79-806c26a12985"
      },
      "cell_type": "code",
      "source": [
        "print(sess.run(inputs))\n",
        "sess.close()"
      ],
      "execution_count": 67,
      "outputs": [
        {
          "output_type": "stream",
          "text": [
            "[[ 1.  0.  5.]\n",
            " [ 1.  0. 10.]\n",
            " [ 0.  1.  8.]\n",
            " [ 1.  0.  9.]]\n"
          ],
          "name": "stdout"
        }
      ]
    },
    {
      "metadata": {
        "id": "E7l7OQwXozPO",
        "colab_type": "text"
      },
      "cell_type": "markdown",
      "source": [
        "## Training"
      ]
    },
    {
      "metadata": {
        "id": "_ExyhgA-o4hJ",
        "colab_type": "text"
      },
      "cell_type": "markdown",
      "source": [
        "### Define the data"
      ]
    },
    {
      "metadata": {
        "id": "GECIPEEfo8tz",
        "colab_type": "code",
        "colab": {}
      },
      "cell_type": "code",
      "source": [
        "x = tf.constant([[1], [2], [3], [4]], dtype = tf.float32)\n",
        "y_true = tf.constant([[0], [-1], [-2], [-3]], dtype = tf.float32)"
      ],
      "execution_count": 0,
      "outputs": []
    },
    {
      "metadata": {
        "id": "vVoa0QE6pe06",
        "colab_type": "text"
      },
      "cell_type": "markdown",
      "source": [
        "### Define the model"
      ]
    },
    {
      "metadata": {
        "id": "VrKch_B_pgW8",
        "colab_type": "code",
        "colab": {}
      },
      "cell_type": "code",
      "source": [
        "linear_model = tf.layers.Dense(units=1)\n",
        "\n",
        "y_pred = linear_model(x)"
      ],
      "execution_count": 0,
      "outputs": []
    },
    {
      "metadata": {
        "id": "zLf_JOhuprbW",
        "colab_type": "code",
        "colab": {
          "base_uri": "https://localhost:8080/",
          "height": 85
        },
        "outputId": "b4b8c90c-5fef-42ab-a5dd-34f76e2cb6ee"
      },
      "cell_type": "code",
      "source": [
        "sess = tf.Session()\n",
        "init = tf.global_variables_initializer()\n",
        "sess.run(init)\n",
        "\n",
        "print(sess.run(y_pred))"
      ],
      "execution_count": 85,
      "outputs": [
        {
          "output_type": "stream",
          "text": [
            "[[-1.5702946]\n",
            " [-3.1405892]\n",
            " [-4.710884 ]\n",
            " [-6.2811785]]\n"
          ],
          "name": "stdout"
        }
      ]
    },
    {
      "metadata": {
        "id": "jm49RTvnp_Qm",
        "colab_type": "text"
      },
      "cell_type": "markdown",
      "source": [
        "### Loss"
      ]
    },
    {
      "metadata": {
        "id": "XnhaUaOtqBFV",
        "colab_type": "code",
        "colab": {
          "base_uri": "https://localhost:8080/",
          "height": 34
        },
        "outputId": "d72759bd-c10b-46ff-e919-3007a5da6273"
      },
      "cell_type": "code",
      "source": [
        "loss = tf.losses.mean_squared_error(labels=y_true, predictions=y_pred)\n",
        "\n",
        "print(sess.run(loss))"
      ],
      "execution_count": 86,
      "outputs": [
        {
          "output_type": "stream",
          "text": [
            "6.290743\n"
          ],
          "name": "stdout"
        }
      ]
    },
    {
      "metadata": {
        "id": "47KWaQkeqV5b",
        "colab_type": "text"
      },
      "cell_type": "markdown",
      "source": [
        "### Training"
      ]
    },
    {
      "metadata": {
        "id": "5pNbey3_qXHu",
        "colab_type": "code",
        "colab": {}
      },
      "cell_type": "code",
      "source": [
        "optimizer = tf.train.GradientDescentOptimizer(0.01)\n",
        "train = optimizer.minimize(loss)"
      ],
      "execution_count": 0,
      "outputs": []
    },
    {
      "metadata": {
        "id": "jOURfjpMq7dk",
        "colab_type": "code",
        "colab": {
          "base_uri": "https://localhost:8080/",
          "height": 1717
        },
        "outputId": "023ed777-c948-448f-8110-113d1a549098"
      },
      "cell_type": "code",
      "source": [
        "for i in range(100):\n",
        "  _, loss_value = sess.run((train, loss))\n",
        "  print(loss_value)"
      ],
      "execution_count": 88,
      "outputs": [
        {
          "output_type": "stream",
          "text": [
            "6.290743\n",
            "4.391176\n",
            "3.0729523\n",
            "2.1581085\n",
            "1.5231628\n",
            "1.0824336\n",
            "0.7764689\n",
            "0.56401426\n",
            "0.4164455\n",
            "0.31390074\n",
            "0.24259807\n",
            "0.19297434\n",
            "0.15839416\n",
            "0.13425326\n",
            "0.11735688\n",
            "0.105488114\n",
            "0.09710881\n",
            "0.09115164\n",
            "0.08687595\n",
            "0.08376787\n",
            "0.08147083\n",
            "0.07973738\n",
            "0.07839582\n",
            "0.07732703\n",
            "0.076448314\n",
            "0.075702325\n",
            "0.07504923\n",
            "0.07446141\n",
            "0.07391971\n",
            "0.07341078\n",
            "0.07292539\n",
            "0.07245715\n",
            "0.07200154\n",
            "0.07155554\n",
            "0.07111694\n",
            "0.070684284\n",
            "0.07025646\n",
            "0.06983281\n",
            "0.069412805\n",
            "0.068996064\n",
            "0.06858234\n",
            "0.06817147\n",
            "0.0677633\n",
            "0.06735775\n",
            "0.06695476\n",
            "0.06655423\n",
            "0.06615618\n",
            "0.065760545\n",
            "0.065367326\n",
            "0.06497644\n",
            "0.064587936\n",
            "0.064201765\n",
            "0.06381789\n",
            "0.06343633\n",
            "0.06305704\n",
            "0.06268002\n",
            "0.062305287\n",
            "0.06193274\n",
            "0.061562464\n",
            "0.061194386\n",
            "0.060828518\n",
            "0.060464837\n",
            "0.060103312\n",
            "0.059743993\n",
            "0.05938677\n",
            "0.059031717\n",
            "0.058678776\n",
            "0.058327943\n",
            "0.05797921\n",
            "0.05763258\n",
            "0.05728799\n",
            "0.056945477\n",
            "0.056605004\n",
            "0.05626657\n",
            "0.055930167\n",
            "0.055595767\n",
            "0.055263363\n",
            "0.05493296\n",
            "0.05460453\n",
            "0.054278053\n",
            "0.053953543\n",
            "0.05363096\n",
            "0.053310297\n",
            "0.052991573\n",
            "0.052674744\n",
            "0.052359823\n",
            "0.052046776\n",
            "0.05173559\n",
            "0.051426265\n",
            "0.051118795\n",
            "0.05081316\n",
            "0.05050937\n",
            "0.050207358\n",
            "0.049907178\n",
            "0.0496088\n",
            "0.049312208\n",
            "0.04901737\n",
            "0.048724297\n",
            "0.048433\n",
            "0.048143413\n"
          ],
          "name": "stdout"
        }
      ]
    },
    {
      "metadata": {
        "id": "MmJ2cOzHrWpj",
        "colab_type": "code",
        "colab": {
          "base_uri": "https://localhost:8080/",
          "height": 85
        },
        "outputId": "5b64185e-9a15-466a-92a1-7eb77b3afeb0"
      },
      "cell_type": "code",
      "source": [
        "print(sess.run(y_pred))\n",
        "writer = tf.summary.FileWriter('/tmp/log')\n",
        "writer.add_graph(tf.get_default_graph())\n",
        "sess.close()"
      ],
      "execution_count": 89,
      "outputs": [
        {
          "output_type": "stream",
          "text": [
            "[[-0.3532285]\n",
            " [-1.1711634]\n",
            " [-1.9890983]\n",
            " [-2.8070333]]\n"
          ],
          "name": "stdout"
        }
      ]
    },
    {
      "metadata": {
        "id": "GOnG7wgkuiLQ",
        "colab_type": "text"
      },
      "cell_type": "markdown",
      "source": [
        "# Stopping TensorBoard"
      ]
    },
    {
      "metadata": {
        "id": "yPZ_qEVGunNQ",
        "colab_type": "code",
        "colab": {}
      },
      "cell_type": "code",
      "source": [
        "def checkTensorBoardStatus():\n",
        "  ps = !ps -ax\n",
        "  is_tensorboard_running = len([f for f in ps if \"tensorboard\" in f ]) > 0\n",
        "\n",
        "  is_ngrok_running = len([f for f in ps if \"ngrok\" in f ]) > 0\n",
        "  print(\"tensorboard={}, ngrok={}\".format(is_tensorboard_running, is_ngrok_running))\n"
      ],
      "execution_count": 0,
      "outputs": []
    },
    {
      "metadata": {
        "id": "Ks6NT9ryygGI",
        "colab_type": "code",
        "colab": {
          "base_uri": "https://localhost:8080/",
          "height": 51
        },
        "outputId": "cefeb5da-1951-4a74-d457-32e35fd01e77"
      },
      "cell_type": "code",
      "source": [
        "#Get pid of both processes\n",
        "for f in ps:\n",
        "  if \"tensorboard\" in f:\n",
        "    print(f)\n",
        "  if \"ngrok\" in f:\n",
        "    print(f)"
      ],
      "execution_count": 116,
      "outputs": [
        {
          "output_type": "stream",
          "text": [
            "  192 ?        Sl     0:03 /usr/bin/python2 /usr/local/bin/tensorboard --logdir /tmp/log --host 0.0.0.0 --port 6006\n",
            "  250 ?        Sl     0:23 ./ngrok http 6006\n"
          ],
          "name": "stdout"
        }
      ]
    },
    {
      "metadata": {
        "id": "0q5JWWp6x3kv",
        "colab_type": "code",
        "colab": {
          "base_uri": "https://localhost:8080/",
          "height": 51
        },
        "outputId": "26c8757d-92f5-40db-e8fe-6624c445d845"
      },
      "cell_type": "code",
      "source": [
        "#kill ngrok\n",
        "checkTensorBoardStatus()\n",
        "!kill 250\n",
        "!kill 192\n",
        "checkTensorBoardStatus()"
      ],
      "execution_count": 117,
      "outputs": [
        {
          "output_type": "stream",
          "text": [
            "tensorboard=True, ngrok=True\n",
            "tensorboard=False, ngrok=False\n"
          ],
          "name": "stdout"
        }
      ]
    }
  ]
}